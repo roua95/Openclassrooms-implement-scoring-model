{
 "cells": [
  {
   "cell_type": "markdown",
   "metadata": {
    "id": "ljZKX9_ueSsS"
   },
   "source": [
    "# **Serialisation et Module FASTAPI **"
   ]
  },
  {
   "cell_type": "code",
   "execution_count": 4,
   "metadata": {},
   "outputs": [],
   "source": [
    "!pip install FastAPI  uvicorn nest-asyncio pyngrok dill -q"
   ]
  },
  {
   "cell_type": "code",
   "execution_count": 37,
   "metadata": {
    "id": "xuamjuT6epJr"
   },
   "outputs": [],
   "source": [
    "import uvicorn\n",
    "import joblib\n",
    "import pickle\n",
    "import dill\n",
    "import lightgbm as lgb\n",
    "from fastapi import FastAPI\n",
    "\n",
    "from fastapi.middleware.cors import CORSMiddleware\n",
    "\n",
    "from pydantic import BaseModel\n",
    "\n",
    "class Client(BaseModel):\n",
    "\n",
    "    AMT_ANNUITY: float\n",
    "\n",
    "    EXT_SOURCES_MAX: float\n",
    "def my_score(y_pred,y_true):\n",
    "    tp = np.sum(y_pred * y_true, axis=0)\n",
    "    fp = np.sum(y_pred * (1 - y_true), axis=0)\n",
    "    fn = np.sum((1 - y_pred) * y_true, axis=0)\n",
    "    cost = 15*fn + 5*fp #/ (2*tp + fn + fp + 1e-16)\n",
    "    return cost\n",
    "\n",
    "app = FastAPI()\n",
    "\n",
    "app.add_middleware(\n",
    "    CORSMiddleware,\n",
    "    allow_origins=['*'],\n",
    "    allow_credentials=True,\n",
    "    allow_methods=['*'],\n",
    "    allow_headers=['*'],\n",
    ")\n",
    "\n",
    "#with open(\"./model.dat\", \"rb\") as f:\n",
    "\n",
    "#    model = pickle.load(f)\n",
    "model = lgb.Booster(model_file='model.txt')\n",
    "\n",
    "\n",
    "@app.get('/')\n",
    "\n",
    "def index():\n",
    "\n",
    "    return {'message': 'This is the homepage of the API '}\n",
    "\n",
    "\n",
    "@app.get('/client/{id}')\n",
    "\n",
    "def get_client_id(id: int):\n",
    "\n",
    "    \n",
    "    return {'message': f'Hello! @{id}'}\n",
    "\n",
    "\n",
    "@app.get('/prediction')\n",
    "\n",
    "def get_model_decision(data: Client):\n",
    "\n",
    "    received = data.dict()\n",
    "\n",
    "    AMT_ANNUITY = received['AMT_ANNUITY']\n",
    "\n",
    "    EXT_SOURCES_MAX = received['EXT_SOURCES_MAX']\n",
    "\n",
    "\n",
    "    pred_name = model.predict([[AMT_ANNUITY, EXT_SOURCES_MAX]]).tolist()[0]\n",
    "\n",
    "    return {'prediction': pred_name}\n",
    "\n"
   ]
  },
  {
   "cell_type": "code",
   "execution_count": 38,
   "metadata": {},
   "outputs": [],
   "source": [
    "import nest_asyncio\n",
    "nest_asyncio.apply()"
   ]
  },
  {
   "cell_type": "code",
   "execution_count": 39,
   "metadata": {
    "colab": {
     "base_uri": "https://localhost:8080/"
    },
    "id": "5dWQ_4H4szpA",
    "outputId": "de8cac96-f0b4-43c6-a1d3-66ebce782cb5"
   },
   "outputs": [
    {
     "name": "stderr",
     "output_type": "stream",
     "text": [
      "INFO:     Started server process [14636]\n",
      "INFO:     Waiting for application startup.\n",
      "INFO:     Application startup complete.\n",
      "INFO:     Uvicorn running on http://127.0.0.1:4000 (Press CTRL+C to quit)\n"
     ]
    },
    {
     "name": "stdout",
     "output_type": "stream",
     "text": [
      "INFO:     127.0.0.1:57712 - \"GET /client/10 HTTP/1.1\" 200 OK\n",
      "INFO:     127.0.0.1:57715 - \"GET /prediction HTTP/1.1\" 200 OK\n"
     ]
    },
    {
     "name": "stderr",
     "output_type": "stream",
     "text": [
      "INFO:     Shutting down\n",
      "INFO:     Waiting for application shutdown.\n",
      "INFO:     Application shutdown complete.\n",
      "INFO:     Finished server process [14636]\n"
     ]
    }
   ],
   "source": [
    "if __name__ == '__main__':\n",
    "\n",
    "    uvicorn.run(app, host='127.0.0.1', port=4000, debug=True)"
   ]
  },
  {
   "cell_type": "code",
   "execution_count": 40,
   "metadata": {},
   "outputs": [
    {
     "name": "stdout",
     "output_type": "stream",
     "text": [
      "3.8.8\n"
     ]
    }
   ],
   "source": [
    "from platform import python_version\n",
    "\n",
    "print(python_version())"
   ]
  },
  {
   "cell_type": "code",
   "execution_count": null,
   "metadata": {},
   "outputs": [],
   "source": []
  }
 ],
 "metadata": {
  "colab": {
   "collapsed_sections": [],
   "name": "Untitled1.ipynb",
   "provenance": []
  },
  "kernelspec": {
   "display_name": "Python 3 (ipykernel)",
   "language": "python",
   "name": "python3"
  },
  "language_info": {
   "codemirror_mode": {
    "name": "ipython",
    "version": 3
   },
   "file_extension": ".py",
   "mimetype": "text/x-python",
   "name": "python",
   "nbconvert_exporter": "python",
   "pygments_lexer": "ipython3",
   "version": "3.8.8"
  }
 },
 "nbformat": 4,
 "nbformat_minor": 4
}
